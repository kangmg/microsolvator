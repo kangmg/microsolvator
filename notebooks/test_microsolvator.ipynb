{
 "cells": [
  {
   "cell_type": "markdown",
   "metadata": {},
   "source": [
    "# Microsolvator Mock Test"
   ]
  },
  {
   "cell_type": "code",
   "execution_count": null,
   "metadata": {},
   "outputs": [],
   "source": [
    "from ase import Atoms\n",
    "from ase.io import write as ase_write\n",
    "import subprocess\n",
    "\n",
    "from microsolvator import Microsolvator, MicrosolvatorConfig\n"
   ]
  },
  {
   "cell_type": "code",
   "execution_count": null,
   "metadata": {},
   "outputs": [],
   "source": [
    "solute = Atoms(\"H2O\", positions=[[0, 0, 0], [0.9, 0, 0], [0, 0.7, 0]])\n",
    "solvent = Atoms(\"H2O\", positions=[[0, 0, 0], [0.9, 0, 0], [0, 0.7, 0]])\n",
    "config = MicrosolvatorConfig(nsolv=3, implicit_model=\"alpb\", implicit_solvent=\"h2o\")\n"
   ]
  },
  {
   "cell_type": "code",
   "execution_count": null,
   "metadata": {},
   "outputs": [],
   "source": [
    "def fake_runner(command, workdir):\n",
    "    best = Atoms(\"H2O\", positions=[[0, 0, 0], [0.9, 0, 0], [0, 0.8, 0]])\n",
    "    ensemble = [best, best.copy()]\n",
    "    ase_write(workdir / \"crest_best.xyz\", best)\n",
    "    ase_write(workdir / \"full_ensemble.xyz\", ensemble)\n",
    "    (workdir / \"full_population.dat\").write_text(\"1 0.5\\n\", encoding=\"utf-8\")\n",
    "    return subprocess.CompletedProcess(args=command, returncode=0, stdout=\"crest ok\", stderr=\"\")\n"
   ]
  },
  {
   "cell_type": "code",
   "execution_count": null,
   "metadata": {},
   "outputs": [],
   "source": [
    "result = Microsolvator.run(\n",
    "    solute=solute,\n",
    "    solvent=solvent,\n",
    "    config=config,\n",
    "    constrain_solute=True,\n",
    "    keep_temps=True,\n",
    "    run_command=fake_runner,\n",
    ")\n",
    "result.best_structure, len(result.ensemble), result.command\n"
   ]
  }
 ],
 "metadata": {
  "kernelspec": {
   "display_name": "Python 3",
   "language": "python",
   "name": "python3"
  },
  "language_info": {
   "name": "python",
   "nbconvert_exporter": "python",
   "pygments_lexer": "ipython3",
   "version": "3.9"
  }
 },
 "nbformat": 4,
 "nbformat_minor": 5
}
